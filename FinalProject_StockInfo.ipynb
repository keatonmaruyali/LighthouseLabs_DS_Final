{
 "metadata": {
  "language_info": {
   "codemirror_mode": {
    "name": "ipython",
    "version": 3
   },
   "file_extension": ".py",
   "mimetype": "text/x-python",
   "name": "python",
   "nbconvert_exporter": "python",
   "pygments_lexer": "ipython3",
   "version": "3.7.9-final"
  },
  "orig_nbformat": 2,
  "kernelspec": {
   "name": "python_defaultSpec_1600895375943",
   "display_name": "Python 3.7.9 64-bit ('base': conda)"
  }
 },
 "nbformat": 4,
 "nbformat_minor": 2,
 "cells": [
  {
   "cell_type": "code",
   "execution_count": 1,
   "metadata": {},
   "outputs": [],
   "source": [
    "import yfinance as yf\n",
    "import pandas as pd"
   ]
  },
  {
   "cell_type": "code",
   "execution_count": 2,
   "metadata": {},
   "outputs": [
    {
     "output_type": "execute_result",
     "data": {
      "text/plain": "              Open    High     Low   Close     Volume  Dividends  Stock Splits\nDate                                                                          \n2010-06-29    3.80    5.00    3.51    4.78   93831500          0             0\n2010-06-30    5.16    6.08    4.66    4.77   85935500          0             0\n2010-07-01    5.00    5.18    4.05    4.39   41094000          0             0\n2010-07-02    4.60    4.62    3.74    3.84   25699000          0             0\n2010-07-06    4.00    4.00    3.17    3.22   34334500          0             0\n...            ...     ...     ...     ...        ...        ...           ...\n2020-01-17  101.52  103.13  100.63  102.10   68145500          0             0\n2020-01-21  106.05  109.72  105.68  109.44   89017500          0             0\n2020-01-22  114.38  118.90  111.82  113.91  156845000          0             0\n2020-01-23  112.85  116.40  111.12  114.44   98255000          0             0\n2020-01-24  114.13  114.77  110.85  112.96   71768000          0             0\n\n[2410 rows x 7 columns]",
      "text/html": "<div>\n<style scoped>\n    .dataframe tbody tr th:only-of-type {\n        vertical-align: middle;\n    }\n\n    .dataframe tbody tr th {\n        vertical-align: top;\n    }\n\n    .dataframe thead th {\n        text-align: right;\n    }\n</style>\n<table border=\"1\" class=\"dataframe\">\n  <thead>\n    <tr style=\"text-align: right;\">\n      <th></th>\n      <th>Open</th>\n      <th>High</th>\n      <th>Low</th>\n      <th>Close</th>\n      <th>Volume</th>\n      <th>Dividends</th>\n      <th>Stock Splits</th>\n    </tr>\n    <tr>\n      <th>Date</th>\n      <th></th>\n      <th></th>\n      <th></th>\n      <th></th>\n      <th></th>\n      <th></th>\n      <th></th>\n    </tr>\n  </thead>\n  <tbody>\n    <tr>\n      <th>2010-06-29</th>\n      <td>3.80</td>\n      <td>5.00</td>\n      <td>3.51</td>\n      <td>4.78</td>\n      <td>93831500</td>\n      <td>0</td>\n      <td>0</td>\n    </tr>\n    <tr>\n      <th>2010-06-30</th>\n      <td>5.16</td>\n      <td>6.08</td>\n      <td>4.66</td>\n      <td>4.77</td>\n      <td>85935500</td>\n      <td>0</td>\n      <td>0</td>\n    </tr>\n    <tr>\n      <th>2010-07-01</th>\n      <td>5.00</td>\n      <td>5.18</td>\n      <td>4.05</td>\n      <td>4.39</td>\n      <td>41094000</td>\n      <td>0</td>\n      <td>0</td>\n    </tr>\n    <tr>\n      <th>2010-07-02</th>\n      <td>4.60</td>\n      <td>4.62</td>\n      <td>3.74</td>\n      <td>3.84</td>\n      <td>25699000</td>\n      <td>0</td>\n      <td>0</td>\n    </tr>\n    <tr>\n      <th>2010-07-06</th>\n      <td>4.00</td>\n      <td>4.00</td>\n      <td>3.17</td>\n      <td>3.22</td>\n      <td>34334500</td>\n      <td>0</td>\n      <td>0</td>\n    </tr>\n    <tr>\n      <th>...</th>\n      <td>...</td>\n      <td>...</td>\n      <td>...</td>\n      <td>...</td>\n      <td>...</td>\n      <td>...</td>\n      <td>...</td>\n    </tr>\n    <tr>\n      <th>2020-01-17</th>\n      <td>101.52</td>\n      <td>103.13</td>\n      <td>100.63</td>\n      <td>102.10</td>\n      <td>68145500</td>\n      <td>0</td>\n      <td>0</td>\n    </tr>\n    <tr>\n      <th>2020-01-21</th>\n      <td>106.05</td>\n      <td>109.72</td>\n      <td>105.68</td>\n      <td>109.44</td>\n      <td>89017500</td>\n      <td>0</td>\n      <td>0</td>\n    </tr>\n    <tr>\n      <th>2020-01-22</th>\n      <td>114.38</td>\n      <td>118.90</td>\n      <td>111.82</td>\n      <td>113.91</td>\n      <td>156845000</td>\n      <td>0</td>\n      <td>0</td>\n    </tr>\n    <tr>\n      <th>2020-01-23</th>\n      <td>112.85</td>\n      <td>116.40</td>\n      <td>111.12</td>\n      <td>114.44</td>\n      <td>98255000</td>\n      <td>0</td>\n      <td>0</td>\n    </tr>\n    <tr>\n      <th>2020-01-24</th>\n      <td>114.13</td>\n      <td>114.77</td>\n      <td>110.85</td>\n      <td>112.96</td>\n      <td>71768000</td>\n      <td>0</td>\n      <td>0</td>\n    </tr>\n  </tbody>\n</table>\n<p>2410 rows × 7 columns</p>\n</div>"
     },
     "metadata": {},
     "execution_count": 2
    }
   ],
   "source": [
    "#define the ticker symbol\n",
    "tickerSymbol = 'TSLA'\n",
    "\n",
    "#get data on this ticker\n",
    "tickerData = yf.Ticker(tickerSymbol)\n",
    "\n",
    "#get the historical prices for this ticker\n",
    "tickerDf = tickerData.history(period='1d', start='2010-1-1', end='2020-1-25')\n",
    "\n",
    "#see your data\n",
    "tickerDf"
   ]
  },
  {
   "cell_type": "code",
   "execution_count": 3,
   "metadata": {},
   "outputs": [
    {
     "output_type": "execute_result",
     "data": {
      "text/plain": "{'zip': '94304',\n 'sector': 'Consumer Cyclical',\n 'fullTimeEmployees': 48016,\n 'longBusinessSummary': 'Tesla, Inc. designs, develops, manufactures, leases, and sells electric vehicles, and energy generation and storage systems in the United States, China, Netherlands, Norway, and internationally. The company operates in two segments, Automotive; and Energy Generation and Storage. The Automotive segment offers sedans and sport utility vehicles. It also provides electric powertrain components and systems; and services for electric vehicles through its company-owned service locations, and Tesla mobile service technicians, as well as sells used vehicles. This segment markets and sells its products through a network of company-owned stores and galleries, as well as through its own Website. The Energy Generation and Storage segment offers energy storage products, such as rechargeable lithium-ion battery systems for use in homes, industrial, commercial facilities, and utility grids; and designs, manufactures, installs, maintains, leases, and sells solar energy generation and energy storage products to residential and commercial customers. It also provides vehicle insurance services, as well as renewable energy. The company was formerly known as Tesla Motors, Inc. and changed its name to Tesla, Inc. in February 2017. Tesla, Inc. was founded in 2003 and is headquartered in Palo Alto, California.',\n 'city': 'Palo Alto',\n 'phone': '650-681-5000',\n 'state': 'CA',\n 'country': 'United States',\n 'companyOfficers': [],\n 'website': 'http://www.tesla.com',\n 'maxAge': 1,\n 'address1': '3500 Deer Creek Road',\n 'industry': 'Auto Manufacturers',\n 'previousClose': 424.23,\n 'regularMarketOpen': 405.16,\n 'twoHundredDayAverage': 233.15668,\n 'trailingAnnualDividendYield': None,\n 'payoutRatio': 0,\n 'volume24Hr': None,\n 'regularMarketDayHigh': 412.11,\n 'navPrice': None,\n 'averageDailyVolume10Day': 85557400,\n 'totalAssets': None,\n 'regularMarketPreviousClose': 424.23,\n 'fiftyDayAverage': 385.7967,\n 'trailingAnnualDividendRate': None,\n 'open': 405.16,\n 'toCurrency': None,\n 'averageVolume10days': 85557400,\n 'expireDate': None,\n 'yield': None,\n 'algorithm': None,\n 'dividendRate': None,\n 'exDividendDate': None,\n 'beta': 1.638238,\n 'circulatingSupply': None,\n 'startDate': None,\n 'regularMarketDayLow': 375.8801,\n 'priceHint': 2,\n 'currency': 'USD',\n 'trailingPE': 985.38855,\n 'regularMarketVolume': 91661703,\n 'lastMarket': None,\n 'maxSupply': None,\n 'openInterest': None,\n 'marketCap': 354422882304,\n 'volumeAllCurrencies': None,\n 'strikePrice': None,\n 'averageVolume': 79407489,\n 'priceToSalesTrailing12Months': 13.786483,\n 'dayLow': 375.8801,\n 'ask': 376.8,\n 'ytdReturn': None,\n 'askSize': 800,\n 'volume': 91661703,\n 'fiftyTwoWeekHigh': 502.49,\n 'forwardPE': 120.36708,\n 'fromCurrency': None,\n 'fiveYearAvgDividendYield': None,\n 'fiftyTwoWeekLow': 43.672,\n 'bid': 376.65,\n 'tradeable': False,\n 'dividendYield': None,\n 'bidSize': 2200,\n 'dayHigh': 412.11,\n 'exchange': 'NMS',\n 'shortName': 'Tesla, Inc.',\n 'longName': 'Tesla, Inc.',\n 'exchangeTimezoneName': 'America/New_York',\n 'exchangeTimezoneShortName': 'EDT',\n 'isEsgPopulated': False,\n 'gmtOffSetMilliseconds': '-14400000',\n 'quoteType': 'EQUITY',\n 'symbol': 'TSLA',\n 'messageBoardId': 'finmb_27444752',\n 'market': 'us_market',\n 'annualHoldingsTurnover': None,\n 'enterpriseToRevenue': 15.701,\n 'beta3Year': None,\n 'profitMargins': 0.0143099995,\n 'enterpriseToEbitda': 117.168,\n '52WeekChange': 8.274814,\n 'morningStarRiskRating': None,\n 'forwardEps': 3.16,\n 'revenueQuarterlyGrowth': None,\n 'sharesOutstanding': 931809024,\n 'fundInceptionDate': None,\n 'annualReportExpenseRatio': None,\n 'bookValue': 10.597,\n 'sharesShort': 54890314,\n 'sharesPercentSharesOut': 0.0588,\n 'fundFamily': None,\n 'lastFiscalYearEnd': 1577750400,\n 'heldPercentInstitutions': 0.57927,\n 'netIncomeToCommon': 376000000,\n 'trailingEps': 0.386,\n 'lastDividendValue': None,\n 'SandP52WeekChange': 0.11079204,\n 'priceToBook': 35.893177,\n 'heldPercentInsiders': 0.2051,\n 'nextFiscalYearEnd': 1640908800,\n 'mostRecentQuarter': 1593475200,\n 'shortRatio': 0.75,\n 'sharesShortPreviousMonthDate': 1596153600,\n 'floatShares': 742847158,\n 'enterpriseValue': 403645169664,\n 'threeYearAverageReturn': None,\n 'lastSplitDate': 1598832000,\n 'lastSplitFactor': '5:1',\n 'legalType': None,\n 'morningStarOverallRating': None,\n 'earningsQuarterlyGrowth': None,\n 'dateShortInterest': 1598832000,\n 'pegRatio': 0.71,\n 'lastCapGain': None,\n 'shortPercentOfFloat': 0.0736,\n 'sharesShortPriorMonth': 59726265,\n 'category': None,\n 'fiveYearAverageReturn': None,\n 'regularMarketPrice': 405.16,\n 'logo_url': 'https://logo.clearbit.com/tesla.com'}"
     },
     "metadata": {},
     "execution_count": 3
    }
   ],
   "source": [
    "#define the ticker symbol\n",
    "tickerSymbol = 'TSLA'\n",
    "\n",
    "#get data on this ticker\n",
    "tickerData = yf.Ticker(tickerSymbol)\n",
    "\n",
    "#info on the company\n",
    "tickerData.info"
   ]
  },
  {
   "cell_type": "code",
   "execution_count": 4,
   "metadata": {},
   "outputs": [
    {
     "output_type": "execute_result",
     "data": {
      "text/plain": "                                    0                    1\nEarnings Date     2020-10-21 00:00:00  2020-10-26 00:00:00\nEarnings Average                 0.56                 0.56\nEarnings Low                     0.22                 0.22\nEarnings High                    0.98                 0.98\nRevenue Average            8174590000           8174590000\nRevenue Low                6681000000           6681000000\nRevenue High               9677310000           9677310000",
      "text/html": "<div>\n<style scoped>\n    .dataframe tbody tr th:only-of-type {\n        vertical-align: middle;\n    }\n\n    .dataframe tbody tr th {\n        vertical-align: top;\n    }\n\n    .dataframe thead th {\n        text-align: right;\n    }\n</style>\n<table border=\"1\" class=\"dataframe\">\n  <thead>\n    <tr style=\"text-align: right;\">\n      <th></th>\n      <th>0</th>\n      <th>1</th>\n    </tr>\n  </thead>\n  <tbody>\n    <tr>\n      <th>Earnings Date</th>\n      <td>2020-10-21 00:00:00</td>\n      <td>2020-10-26 00:00:00</td>\n    </tr>\n    <tr>\n      <th>Earnings Average</th>\n      <td>0.56</td>\n      <td>0.56</td>\n    </tr>\n    <tr>\n      <th>Earnings Low</th>\n      <td>0.22</td>\n      <td>0.22</td>\n    </tr>\n    <tr>\n      <th>Earnings High</th>\n      <td>0.98</td>\n      <td>0.98</td>\n    </tr>\n    <tr>\n      <th>Revenue Average</th>\n      <td>8174590000</td>\n      <td>8174590000</td>\n    </tr>\n    <tr>\n      <th>Revenue Low</th>\n      <td>6681000000</td>\n      <td>6681000000</td>\n    </tr>\n    <tr>\n      <th>Revenue High</th>\n      <td>9677310000</td>\n      <td>9677310000</td>\n    </tr>\n  </tbody>\n</table>\n</div>"
     },
     "metadata": {},
     "execution_count": 4
    }
   ],
   "source": [
    "#define the ticker symbol\n",
    "tickerSymbol = 'TSLA'\n",
    "\n",
    "#get data on this ticker\n",
    "tickerData = yf.Ticker(tickerSymbol)\n",
    "\n",
    "#get event data for ticker\n",
    "tickerData.calendar"
   ]
  },
  {
   "cell_type": "code",
   "execution_count": 5,
   "metadata": {},
   "outputs": [
    {
     "output_type": "execute_result",
     "data": {
      "text/plain": "                               Firm       To Grade  From Grade Action\nDate                                                                 \n2012-03-16 08:19:00  Argus Research            Buy                 up\n2012-03-19 14:00:00  Hilliard Lyons  Long-Term Buy               main\n2012-03-22 07:03:00  Morgan Stanley     Overweight               main\n2012-04-03 11:53:00             UBS            Buy               main\n2012-04-20 06:18:00   Deutsche Bank            Buy               main\n...                             ...            ...         ...    ...\n2020-07-20 13:50:49       Jefferies            Buy               main\n2020-07-20 14:48:02   Raymond James     Strong Buy               main\n2020-07-23 08:43:04   Piper Sandler     Overweight               main\n2020-07-23 13:06:12     Oppenheimer        Perform  Outperform   down\n2020-09-09 12:01:51  Morgan Stanley     Overweight               main\n\n[280 rows x 4 columns]",
      "text/html": "<div>\n<style scoped>\n    .dataframe tbody tr th:only-of-type {\n        vertical-align: middle;\n    }\n\n    .dataframe tbody tr th {\n        vertical-align: top;\n    }\n\n    .dataframe thead th {\n        text-align: right;\n    }\n</style>\n<table border=\"1\" class=\"dataframe\">\n  <thead>\n    <tr style=\"text-align: right;\">\n      <th></th>\n      <th>Firm</th>\n      <th>To Grade</th>\n      <th>From Grade</th>\n      <th>Action</th>\n    </tr>\n    <tr>\n      <th>Date</th>\n      <th></th>\n      <th></th>\n      <th></th>\n      <th></th>\n    </tr>\n  </thead>\n  <tbody>\n    <tr>\n      <th>2012-03-16 08:19:00</th>\n      <td>Argus Research</td>\n      <td>Buy</td>\n      <td></td>\n      <td>up</td>\n    </tr>\n    <tr>\n      <th>2012-03-19 14:00:00</th>\n      <td>Hilliard Lyons</td>\n      <td>Long-Term Buy</td>\n      <td></td>\n      <td>main</td>\n    </tr>\n    <tr>\n      <th>2012-03-22 07:03:00</th>\n      <td>Morgan Stanley</td>\n      <td>Overweight</td>\n      <td></td>\n      <td>main</td>\n    </tr>\n    <tr>\n      <th>2012-04-03 11:53:00</th>\n      <td>UBS</td>\n      <td>Buy</td>\n      <td></td>\n      <td>main</td>\n    </tr>\n    <tr>\n      <th>2012-04-20 06:18:00</th>\n      <td>Deutsche Bank</td>\n      <td>Buy</td>\n      <td></td>\n      <td>main</td>\n    </tr>\n    <tr>\n      <th>...</th>\n      <td>...</td>\n      <td>...</td>\n      <td>...</td>\n      <td>...</td>\n    </tr>\n    <tr>\n      <th>2020-07-20 13:50:49</th>\n      <td>Jefferies</td>\n      <td>Buy</td>\n      <td></td>\n      <td>main</td>\n    </tr>\n    <tr>\n      <th>2020-07-20 14:48:02</th>\n      <td>Raymond James</td>\n      <td>Strong Buy</td>\n      <td></td>\n      <td>main</td>\n    </tr>\n    <tr>\n      <th>2020-07-23 08:43:04</th>\n      <td>Piper Sandler</td>\n      <td>Overweight</td>\n      <td></td>\n      <td>main</td>\n    </tr>\n    <tr>\n      <th>2020-07-23 13:06:12</th>\n      <td>Oppenheimer</td>\n      <td>Perform</td>\n      <td>Outperform</td>\n      <td>down</td>\n    </tr>\n    <tr>\n      <th>2020-09-09 12:01:51</th>\n      <td>Morgan Stanley</td>\n      <td>Overweight</td>\n      <td></td>\n      <td>main</td>\n    </tr>\n  </tbody>\n</table>\n<p>280 rows × 4 columns</p>\n</div>"
     },
     "metadata": {},
     "execution_count": 5
    }
   ],
   "source": [
    "#define the ticker symbol\n",
    "tickerSymbol = 'MSFT'\n",
    "\n",
    "#get data on this ticker\n",
    "tickerData = yf.Ticker(tickerSymbol)\n",
    "\n",
    "#get recommendation data for ticker\n",
    "tickerData.recommendations"
   ]
  },
  {
   "cell_type": "code",
   "execution_count": null,
   "metadata": {},
   "outputs": [],
   "source": []
  }
 ]
}